{
 "cells": [
  {
   "cell_type": "markdown",
   "metadata": {},
   "source": [
    "# Task 1:"
   ]
  },
  {
   "cell_type": "markdown",
   "metadata": {},
   "source": [
    "1. Write a function to compute 5/0 and use try/except to catch the exceptions."
   ]
  },
  {
   "cell_type": "code",
   "execution_count": 17,
   "metadata": {},
   "outputs": [
    {
     "name": "stdout",
     "output_type": "stream",
     "text": [
      "The value can not be devisible by 0(zero)\n"
     ]
    }
   ],
   "source": [
    "def compute(val):\n",
    "    try:\n",
    "        x = val/0\n",
    "        print(x)\n",
    "    except:\n",
    "        print(\"The value can not be devisible by 0(zero)\")\n",
    "\n",
    "compute(5)"
   ]
  },
  {
   "cell_type": "markdown",
   "metadata": {},
   "source": [
    "2.  Implement a Python program to generate all sentences where subject is in [\"Americans\",\n",
    "    \"Indians\"] and verb is in [\"Play\", \"watch\"] and the object is in [\"Baseball\",\"cricket\"].\n",
    "    Hint: Subject,Verb and Object should be declared in the program as shown below.\n",
    "    \n",
    "subjects=[\"Americans \",\"Indians\"]\n",
    "\n",
    "verbs=[\"play\",\"watch\"]\n",
    "\n",
    "objects=[\"Baseball\",\"Cricket\"]\n",
    "\n",
    "Output should come as below:\n",
    "    \n",
    "Americans play Baseball.\n",
    "\n",
    "Americans play Cricket.\n",
    "\n",
    "Americans watch Baseball.\n",
    "\n",
    "Americans watch Cricket.\n",
    "\n",
    "Indians play Baseball.\n",
    "\n",
    "Indians play Cricket.\n",
    "\n",
    "Indians watch Baseball.\n",
    "\n",
    "Indians watch Cricket."
   ]
  },
  {
   "cell_type": "code",
   "execution_count": 8,
   "metadata": {},
   "outputs": [
    {
     "name": "stdout",
     "output_type": "stream",
     "text": [
      "Americans play Baseball\n",
      "Americans play Cricket\n",
      "Americans watch Baseball\n",
      "Americans watch Cricket\n",
      "Indians play Baseball\n",
      "Indians play Cricket\n",
      "Indians watch Baseball\n",
      "Indians watch Cricket\n"
     ]
    }
   ],
   "source": [
    "subjects=[\"Americans\",\"Indians\"]\n",
    "verbs=['play','watch']\n",
    "objects=['Baseball','Cricket']\n",
    "a=[ (str(i)+\" \"+str(j)+\" \"+str(k))  for i in subjects for j in verbs for k in objects]\n",
    "for i in a:\n",
    "    print (i)"
   ]
  },
  {
   "cell_type": "markdown",
   "metadata": {},
   "source": [
    "# Task 2:"
   ]
  },
  {
   "cell_type": "markdown",
   "metadata": {},
   "source": [
    " 1.  Write a function so that the columns of the output matrix are powers of the input vector.\n",
    "\n",
    "    The order of the powers is determined by the increasing boolean argument. Specifically, when\n",
    "    increasing is False, the i-th output column is the input vector raised element-wise to the power\n",
    "    of N - i - 1.\n",
    "    \n",
    "    HINT: Such a matrix with a geometric progression in each row is named for Alexandre-\n",
    "    Theophile Vandermonde."
   ]
  },
  {
   "cell_type": "code",
   "execution_count": 7,
   "metadata": {},
   "outputs": [
    {
     "name": "stdout",
     "output_type": "stream",
     "text": [
      "[[   1    1    1    1    1    1]\n",
      " [  32   16    8    4    2    1]\n",
      " [ 243   81   27    9    3    1]\n",
      " [1024  256   64   16    4    1]]\n"
     ]
    }
   ],
   "source": [
    "import numpy as np \n",
    "N = 6 # Taken input as 5\n",
    "List_A_define = [1,2,3,4] # Define Dumpy List of Values\n",
    "def Vander_JD(List_A,N):\n",
    "    # Created Numpy with Zero Shape of Row (as List length ) and Columns (as N input)\n",
    "    Np_Array = np.zeros(shape=(len(List_A_define), N),dtype=int)\n",
    "    for j in enumerate(List_A): # Enumerating over list getting tuple\n",
    "        Np_Array[j[0]][-1] = 1 # Fixing Last Position (RXC) as Fix with 1\n",
    "        Np_Array[j[0]][-2] = j[1] # Fixing 2nd last Postion as Element in List\n",
    "        if N <= 3: # Condtion with When N is less than or eqal to 3\n",
    "            Np_Array[j[0]][0]  =int(j[1])*int(j[1]) # inserting result according to postion of\n",
    "        else: \n",
    "            diff = N-3 \n",
    "            for k in (range(N-2)): \n",
    "                counter = 1 \n",
    "                for t in enumerate(List_A): # Enumeration for positon and element\n",
    "                    delta = int(k)+1 # Dummy variable set to Zero in Multiply\n",
    "                    Cal_val = t[1]**delta # Getting element * delta dummy\n",
    "                    Np_Array[t[0]][diff-k] = Cal_val*counter # Fixing the final out in the postion mult by counter as power of column difference\n",
    "                    counter =counter+1 # adding counter to next columns and row postion\n",
    "\n",
    "    return Np_Array # Final result\n",
    "\n",
    "Result_fun =  Vander_JD(List_A=List_A_define,N=N) # Passing value in Function\n",
    "print (Result_fun)"
   ]
  },
  {
   "cell_type": "code",
   "execution_count": null,
   "metadata": {},
   "outputs": [],
   "source": []
  }
 ],
 "metadata": {
  "kernelspec": {
   "display_name": "Python 3",
   "language": "python",
   "name": "python3"
  },
  "language_info": {
   "codemirror_mode": {
    "name": "ipython",
    "version": 3
   },
   "file_extension": ".py",
   "mimetype": "text/x-python",
   "name": "python",
   "nbconvert_exporter": "python",
   "pygments_lexer": "ipython3",
   "version": "3.6.4"
  }
 },
 "nbformat": 4,
 "nbformat_minor": 2
}
